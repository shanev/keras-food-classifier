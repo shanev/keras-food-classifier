{
 "cells": [
  {
   "cell_type": "code",
   "execution_count": 2,
   "metadata": {
    "collapsed": true
   },
   "outputs": [],
   "source": [
    "import os"
   ]
  },
  {
   "cell_type": "code",
   "execution_count": 3,
   "metadata": {},
   "outputs": [
    {
     "data": {
      "text/plain": [
       "'/Users/colombo/Projects/MachineLearning/keras/food'"
      ]
     },
     "execution_count": 3,
     "metadata": {},
     "output_type": "execute_result"
    }
   ],
   "source": [
    "os.getcwd()"
   ]
  },
  {
   "cell_type": "code",
   "execution_count": 1,
   "metadata": {},
   "outputs": [
    {
     "name": "stderr",
     "output_type": "stream",
     "text": [
      "WARNING:root:scikit-learn version 0.14.1 is not supported. Minimum required version: 0.15. Disabling scikit-learn conversion API.\n"
     ]
    }
   ],
   "source": [
    "import coremltools"
   ]
  },
  {
   "cell_type": "code",
   "execution_count": 4,
   "metadata": {},
   "outputs": [
    {
     "name": "stdout",
     "output_type": "stream",
     "text": [
      "0 : conv2d_1_input, <keras.engine.topology.InputLayer object at 0x114c07f90>\n",
      "1 : conv2d_1, <keras.layers.convolutional.Conv2D object at 0x114c07ed0>\n",
      "2 : activation_1, <keras.layers.core.Activation object at 0x114c2e350>\n",
      "3 : max_pooling2d_1, <keras.layers.pooling.MaxPooling2D object at 0x114c077d0>\n",
      "4 : conv2d_2, <keras.layers.convolutional.Conv2D object at 0x114c07fd0>\n",
      "5 : activation_2, <keras.layers.core.Activation object at 0x114d46ad0>\n",
      "6 : max_pooling2d_2, <keras.layers.pooling.MaxPooling2D object at 0x114d46990>\n",
      "7 : conv2d_3, <keras.layers.convolutional.Conv2D object at 0x114d74a10>\n",
      "8 : activation_3, <keras.layers.core.Activation object at 0x114d67bd0>\n",
      "9 : max_pooling2d_3, <keras.layers.pooling.MaxPooling2D object at 0x114d67d90>\n",
      "10 : flatten_1, <keras.layers.core.Flatten object at 0x114d74e90>\n",
      "11 : dense_1, <keras.layers.core.Dense object at 0x114d74550>\n",
      "12 : activation_4, <keras.layers.core.Activation object at 0x114da5950>\n",
      "13 : dense_2, <keras.layers.core.Dense object at 0x114df6350>\n",
      "14 : activation_5, <keras.layers.core.Activation object at 0x114e04b90>\n"
     ]
    }
   ],
   "source": [
    "coreml_model = coremltools.converters.keras.convert(\n",
    "  'vege_model_1.h5',\n",
    "  input_names = 'image',\n",
    "  image_input_names = 'image')\n"
   ]
  },
  {
   "cell_type": "code",
   "execution_count": 5,
   "metadata": {},
   "outputs": [
    {
     "data": {
      "text/plain": [
       "input {\n",
       "  name: \"image\"\n",
       "  type {\n",
       "    imageType {\n",
       "      width: 150\n",
       "      height: 150\n",
       "      colorSpace: RGB\n",
       "    }\n",
       "  }\n",
       "}\n",
       "output {\n",
       "  name: \"output1\"\n",
       "  type {\n",
       "    multiArrayType {\n",
       "      shape: 1\n",
       "      dataType: DOUBLE\n",
       "    }\n",
       "  }\n",
       "}"
      ]
     },
     "execution_count": 5,
     "metadata": {},
     "output_type": "execute_result"
    }
   ],
   "source": [
    "coreml_model"
   ]
  },
  {
   "cell_type": "code",
   "execution_count": 6,
   "metadata": {},
   "outputs": [
    {
     "name": "stdout",
     "output_type": "stream",
     "text": [
      "0 : conv2d_1_input, <keras.engine.topology.InputLayer object at 0x116ceba90>\n",
      "1 : conv2d_1, <keras.layers.convolutional.Conv2D object at 0x116ceb9d0>\n",
      "2 : activation_1, <keras.layers.core.Activation object at 0x112fda190>\n",
      "3 : max_pooling2d_1, <keras.layers.pooling.MaxPooling2D object at 0x116d21a50>\n",
      "4 : conv2d_2, <keras.layers.convolutional.Conv2D object at 0x116cebe10>\n",
      "5 : activation_2, <keras.layers.core.Activation object at 0x116cebf50>\n",
      "6 : max_pooling2d_2, <keras.layers.pooling.MaxPooling2D object at 0x116cfc4d0>\n",
      "7 : conv2d_3, <keras.layers.convolutional.Conv2D object at 0x116d6ddd0>\n",
      "8 : activation_3, <keras.layers.core.Activation object at 0x116d4fc10>\n",
      "9 : max_pooling2d_3, <keras.layers.pooling.MaxPooling2D object at 0x116d3f190>\n",
      "10 : flatten_1, <keras.layers.core.Flatten object at 0x116db9d10>\n",
      "11 : dense_1, <keras.layers.core.Dense object at 0x116de6c10>\n",
      "12 : activation_4, <keras.layers.core.Activation object at 0x116e08410>\n",
      "13 : dense_2, <keras.layers.core.Dense object at 0x116d8bdd0>\n",
      "14 : activation_5, <keras.layers.core.Activation object at 0x116df8b90>\n"
     ]
    }
   ],
   "source": [
    "coreml_model = coremltools.converters.keras.convert(\n",
    "  'vege_model_1.h5',\n",
    "  input_names = 'image',\n",
    "  image_input_names = 'image',\n",
    "  class_labels = ['classLabel'])"
   ]
  },
  {
   "cell_type": "code",
   "execution_count": 7,
   "metadata": {},
   "outputs": [
    {
     "data": {
      "text/plain": [
       "input {\n",
       "  name: \"image\"\n",
       "  type {\n",
       "    imageType {\n",
       "      width: 150\n",
       "      height: 150\n",
       "      colorSpace: RGB\n",
       "    }\n",
       "  }\n",
       "}\n",
       "output {\n",
       "  name: \"output1\"\n",
       "  type {\n",
       "    dictionaryType {\n",
       "      stringKeyType {\n",
       "      }\n",
       "    }\n",
       "  }\n",
       "}\n",
       "output {\n",
       "  name: \"classLabel\"\n",
       "  type {\n",
       "    stringType {\n",
       "    }\n",
       "  }\n",
       "}\n",
       "predictedFeatureName: \"classLabel\"\n",
       "predictedProbabilitiesName: \"output1\""
      ]
     },
     "execution_count": 7,
     "metadata": {},
     "output_type": "execute_result"
    }
   ],
   "source": [
    "coreml_model"
   ]
  },
  {
   "cell_type": "code",
   "execution_count": 8,
   "metadata": {},
   "outputs": [
    {
     "name": "stdout",
     "output_type": "stream",
     "text": [
      "0 : conv2d_1_input, <keras.engine.topology.InputLayer object at 0x1165bf350>\n",
      "1 : conv2d_1, <keras.layers.convolutional.Conv2D object at 0x1165bf1d0>\n",
      "2 : activation_1, <keras.layers.core.Activation object at 0x1165f6fd0>\n",
      "3 : max_pooling2d_1, <keras.layers.pooling.MaxPooling2D object at 0x1165f6dd0>\n",
      "4 : conv2d_2, <keras.layers.convolutional.Conv2D object at 0x112fc6d10>\n",
      "5 : activation_2, <keras.layers.core.Activation object at 0x1165bf510>\n",
      "6 : max_pooling2d_2, <keras.layers.pooling.MaxPooling2D object at 0x1165bf2d0>\n",
      "7 : conv2d_3, <keras.layers.convolutional.Conv2D object at 0x116633e50>\n",
      "8 : activation_3, <keras.layers.core.Activation object at 0x116610810>\n",
      "9 : max_pooling2d_3, <keras.layers.pooling.MaxPooling2D object at 0x116642cd0>\n",
      "10 : flatten_1, <keras.layers.core.Flatten object at 0x11666ef10>\n",
      "11 : dense_1, <keras.layers.core.Dense object at 0x11665b250>\n",
      "12 : activation_4, <keras.layers.core.Activation object at 0x116ec2a10>\n",
      "13 : dense_2, <keras.layers.core.Dense object at 0x116f16d50>\n",
      "14 : activation_5, <keras.layers.core.Activation object at 0x106223610>\n"
     ]
    }
   ],
   "source": [
    "coreml_model = coremltools.converters.keras.convert(\n",
    "  'vege_model_1.h5',\n",
    "  input_names = 'image',\n",
    "  image_input_names = 'image',\n",
    "  output_names = 'output',\n",
    "  class_labels = ['carrots', 'kale'])"
   ]
  },
  {
   "cell_type": "code",
   "execution_count": 9,
   "metadata": {},
   "outputs": [
    {
     "data": {
      "text/plain": [
       "input {\n",
       "  name: \"image\"\n",
       "  type {\n",
       "    imageType {\n",
       "      width: 150\n",
       "      height: 150\n",
       "      colorSpace: RGB\n",
       "    }\n",
       "  }\n",
       "}\n",
       "output {\n",
       "  name: \"output\"\n",
       "  type {\n",
       "    dictionaryType {\n",
       "      stringKeyType {\n",
       "      }\n",
       "    }\n",
       "  }\n",
       "}\n",
       "output {\n",
       "  name: \"classLabel\"\n",
       "  type {\n",
       "    stringType {\n",
       "    }\n",
       "  }\n",
       "}\n",
       "predictedFeatureName: \"classLabel\"\n",
       "predictedProbabilitiesName: \"output\""
      ]
     },
     "execution_count": 9,
     "metadata": {},
     "output_type": "execute_result"
    }
   ],
   "source": [
    "coreml_model"
   ]
  },
  {
   "cell_type": "code",
   "execution_count": 10,
   "metadata": {
    "collapsed": true
   },
   "outputs": [],
   "source": [
    "coreml_model.save('vege_model_1.mlmodel')"
   ]
  },
  {
   "cell_type": "code",
   "execution_count": 2,
   "metadata": {},
   "outputs": [
    {
     "name": "stdout",
     "output_type": "stream",
     "text": [
      "0 : conv2d_1_input, <keras.engine.topology.InputLayer object at 0x1141b3290>\n",
      "1 : conv2d_1, <keras.layers.convolutional.Conv2D object at 0x1141b31d0>\n",
      "2 : activation_1, <keras.layers.core.Activation object at 0x10753fd90>\n",
      "3 : max_pooling2d_1, <keras.layers.pooling.MaxPooling2D object at 0x11418ab10>\n",
      "4 : conv2d_2, <keras.layers.convolutional.Conv2D object at 0x1141f1f50>\n",
      "5 : activation_2, <keras.layers.core.Activation object at 0x114226c10>\n",
      "6 : max_pooling2d_2, <keras.layers.pooling.MaxPooling2D object at 0x1141b3a50>\n",
      "7 : conv2d_3, <keras.layers.convolutional.Conv2D object at 0x11424e950>\n",
      "8 : activation_3, <keras.layers.core.Activation object at 0x11428df90>\n",
      "9 : max_pooling2d_3, <keras.layers.pooling.MaxPooling2D object at 0x11428dd90>\n",
      "10 : flatten_1, <keras.layers.core.Flatten object at 0x114240d90>\n",
      "11 : dense_1, <keras.layers.core.Dense object at 0x11425f3d0>\n",
      "12 : activation_4, <keras.layers.core.Activation object at 0x1142bbf90>\n",
      "13 : dense_2, <keras.layers.core.Dense object at 0x114331c50>\n",
      "14 : activation_5, <keras.layers.core.Activation object at 0x1142edd50>\n"
     ]
    }
   ],
   "source": [
    "coreml_model = coremltools.converters.keras.convert(\n",
    "  'vege_model_1.h5',\n",
    "  input_names = 'image',\n",
    "  image_input_names = 'image',\n",
    "  output_names = 'output',\n",
    "  class_labels = ['vege'])"
   ]
  },
  {
   "cell_type": "code",
   "execution_count": 4,
   "metadata": {
    "collapsed": true
   },
   "outputs": [],
   "source": [
    "coreml_model.save('vege_model_1.mlmodel')"
   ]
  },
  {
   "cell_type": "code",
   "execution_count": 3,
   "metadata": {},
   "outputs": [
    {
     "data": {
      "text/plain": [
       "input {\n",
       "  name: \"image\"\n",
       "  type {\n",
       "    imageType {\n",
       "      width: 150\n",
       "      height: 150\n",
       "      colorSpace: RGB\n",
       "    }\n",
       "  }\n",
       "}\n",
       "output {\n",
       "  name: \"output\"\n",
       "  type {\n",
       "    dictionaryType {\n",
       "      stringKeyType {\n",
       "      }\n",
       "    }\n",
       "  }\n",
       "}\n",
       "output {\n",
       "  name: \"classLabel\"\n",
       "  type {\n",
       "    stringType {\n",
       "    }\n",
       "  }\n",
       "}\n",
       "predictedFeatureName: \"classLabel\"\n",
       "predictedProbabilitiesName: \"output\""
      ]
     },
     "execution_count": 3,
     "metadata": {},
     "output_type": "execute_result"
    }
   ],
   "source": [
    "coreml_model"
   ]
  },
  {
   "cell_type": "code",
   "execution_count": 4,
   "metadata": {
    "collapsed": true
   },
   "outputs": [],
   "source": [
    "from PIL import Image"
   ]
  },
  {
   "cell_type": "code",
   "execution_count": 5,
   "metadata": {
    "collapsed": true
   },
   "outputs": [],
   "source": [
    "kale = Image.open('kale_7.jpg')"
   ]
  },
  {
   "cell_type": "code",
   "execution_count": 6,
   "metadata": {
    "collapsed": true
   },
   "outputs": [],
   "source": [
    "kale.show()"
   ]
  },
  {
   "cell_type": "code",
   "execution_count": 7,
   "metadata": {},
   "outputs": [
    {
     "ename": "SyntaxError",
     "evalue": "invalid syntax (<ipython-input-7-6b1c7fe729fc>, line 1)",
     "output_type": "error",
     "traceback": [
      "\u001b[0;36m  File \u001b[0;32m\"<ipython-input-7-6b1c7fe729fc>\"\u001b[0;36m, line \u001b[0;32m1\u001b[0m\n\u001b[0;31m    coreml_model.predict(['data': kale])\u001b[0m\n\u001b[0m                                ^\u001b[0m\n\u001b[0;31mSyntaxError\u001b[0m\u001b[0;31m:\u001b[0m invalid syntax\n"
     ]
    }
   ],
   "source": [
    "coreml_model.predict(['data': kale])"
   ]
  },
  {
   "cell_type": "code",
   "execution_count": 8,
   "metadata": {},
   "outputs": [
    {
     "ename": "SyntaxError",
     "evalue": "invalid syntax (<ipython-input-8-7e0b7cdcf348>, line 1)",
     "output_type": "error",
     "traceback": [
      "\u001b[0;36m  File \u001b[0;32m\"<ipython-input-8-7e0b7cdcf348>\"\u001b[0;36m, line \u001b[0;32m1\u001b[0m\n\u001b[0;31m    coreml_model.predict('data': kale)\u001b[0m\n\u001b[0m                               ^\u001b[0m\n\u001b[0;31mSyntaxError\u001b[0m\u001b[0;31m:\u001b[0m invalid syntax\n"
     ]
    }
   ],
   "source": [
    "coreml_model.predict('data': kale)"
   ]
  },
  {
   "cell_type": "code",
   "execution_count": 9,
   "metadata": {},
   "outputs": [
    {
     "ename": "SyntaxError",
     "evalue": "invalid syntax (<ipython-input-9-aabacbbb7025>, line 1)",
     "output_type": "error",
     "traceback": [
      "\u001b[0;36m  File \u001b[0;32m\"<ipython-input-9-aabacbbb7025>\"\u001b[0;36m, line \u001b[0;32m1\u001b[0m\n\u001b[0;31m    coreml_mode.predict(('data': kale))\u001b[0m\n\u001b[0m                               ^\u001b[0m\n\u001b[0;31mSyntaxError\u001b[0m\u001b[0;31m:\u001b[0m invalid syntax\n"
     ]
    }
   ],
   "source": [
    "coreml_mode.predict(('data': kale))"
   ]
  },
  {
   "cell_type": "code",
   "execution_count": 10,
   "metadata": {},
   "outputs": [
    {
     "ename": "Exception",
     "evalue": "Model prediction is only supported on macOS version 10.13.",
     "output_type": "error",
     "traceback": [
      "\u001b[0;31m---------------------------------------------------------------------------\u001b[0m",
      "\u001b[0;31mException\u001b[0m                                 Traceback (most recent call last)",
      "\u001b[0;32m<ipython-input-10-ad897a087c23>\u001b[0m in \u001b[0;36m<module>\u001b[0;34m()\u001b[0m\n\u001b[0;32m----> 1\u001b[0;31m \u001b[0mcoreml_model\u001b[0m\u001b[0;34m.\u001b[0m\u001b[0mpredict\u001b[0m\u001b[0;34m(\u001b[0m\u001b[0;34m{\u001b[0m\u001b[0;34m'data'\u001b[0m\u001b[0;34m:\u001b[0m \u001b[0mkale\u001b[0m\u001b[0;34m}\u001b[0m\u001b[0;34m)\u001b[0m\u001b[0;34m\u001b[0m\u001b[0m\n\u001b[0m",
      "\u001b[0;32m/usr/local/anaconda3/envs/coreml/lib/python2.7/site-packages/coremltools/models/model.pyc\u001b[0m in \u001b[0;36mpredict\u001b[0;34m(self, data, **kwargs)\u001b[0m\n\u001b[1;32m    239\u001b[0m         \u001b[0;32melse\u001b[0m\u001b[0;34m:\u001b[0m\u001b[0;34m\u001b[0m\u001b[0m\n\u001b[1;32m    240\u001b[0m             \u001b[0;32mif\u001b[0m \u001b[0m_sys\u001b[0m\u001b[0;34m.\u001b[0m\u001b[0mplatform\u001b[0m \u001b[0;34m!=\u001b[0m \u001b[0;34m'darwin'\u001b[0m \u001b[0;32mor\u001b[0m \u001b[0mfloat\u001b[0m\u001b[0;34m(\u001b[0m\u001b[0;34m'.'\u001b[0m\u001b[0;34m.\u001b[0m\u001b[0mjoin\u001b[0m\u001b[0;34m(\u001b[0m\u001b[0m_platform\u001b[0m\u001b[0;34m.\u001b[0m\u001b[0mmac_ver\u001b[0m\u001b[0;34m(\u001b[0m\u001b[0;34m)\u001b[0m\u001b[0;34m[\u001b[0m\u001b[0;36m0\u001b[0m\u001b[0;34m]\u001b[0m\u001b[0;34m.\u001b[0m\u001b[0msplit\u001b[0m\u001b[0;34m(\u001b[0m\u001b[0;34m'.'\u001b[0m\u001b[0;34m)\u001b[0m\u001b[0;34m[\u001b[0m\u001b[0;34m:\u001b[0m\u001b[0;36m2\u001b[0m\u001b[0;34m]\u001b[0m\u001b[0;34m)\u001b[0m\u001b[0;34m)\u001b[0m \u001b[0;34m<\u001b[0m \u001b[0;36m10.13\u001b[0m\u001b[0;34m:\u001b[0m\u001b[0;34m\u001b[0m\u001b[0m\n\u001b[0;32m--> 241\u001b[0;31m                 \u001b[0;32mraise\u001b[0m \u001b[0mException\u001b[0m\u001b[0;34m(\u001b[0m\u001b[0;34m'Model prediction is only supported on macOS version 10.13.'\u001b[0m\u001b[0;34m)\u001b[0m\u001b[0;34m\u001b[0m\u001b[0m\n\u001b[0m\u001b[1;32m    242\u001b[0m             \u001b[0;32melse\u001b[0m\u001b[0;34m:\u001b[0m\u001b[0;34m\u001b[0m\u001b[0m\n\u001b[1;32m    243\u001b[0m                 \u001b[0;32mraise\u001b[0m \u001b[0mException\u001b[0m\u001b[0;34m(\u001b[0m\u001b[0;34m'Unable to load CoreML.framework. Cannot make predictions.'\u001b[0m\u001b[0;34m)\u001b[0m\u001b[0;34m\u001b[0m\u001b[0m\n",
      "\u001b[0;31mException\u001b[0m: Model prediction is only supported on macOS version 10.13."
     ]
    }
   ],
   "source": [
    "coreml_model.predict({'data': kale})"
   ]
  },
  {
   "cell_type": "code",
   "execution_count": 11,
   "metadata": {
    "collapsed": true
   },
   "outputs": [],
   "source": [
    "from keras.models import load_model\n",
    "model = load_model('vege_model_1.h5')"
   ]
  },
  {
   "cell_type": "code",
   "execution_count": 13,
   "metadata": {},
   "outputs": [],
   "source": [
    "import keras\n",
    "for k in model.layers:\n",
    "    if type(k) is keras.layers.Dropout:\n",
    "        model.layers.remove(k)"
   ]
  },
  {
   "cell_type": "code",
   "execution_count": 15,
   "metadata": {},
   "outputs": [],
   "source": [
    "model.save('vege_model_2.h5')"
   ]
  },
  {
   "cell_type": "code",
   "execution_count": 16,
   "metadata": {},
   "outputs": [
    {
     "name": "stdout",
     "output_type": "stream",
     "text": [
      "0 : conv2d_1_input, <keras.engine.topology.InputLayer object at 0x118c5a510>\n",
      "1 : conv2d_1, <keras.layers.convolutional.Conv2D object at 0x118c5a450>\n",
      "2 : activation_1, <keras.layers.core.Activation object at 0x118c6b910>\n",
      "3 : max_pooling2d_1, <keras.layers.pooling.MaxPooling2D object at 0x118f8bc50>\n",
      "4 : conv2d_2, <keras.layers.convolutional.Conv2D object at 0x118c5d990>\n",
      "5 : activation_2, <keras.layers.core.Activation object at 0x118c5df10>\n",
      "6 : max_pooling2d_2, <keras.layers.pooling.MaxPooling2D object at 0x118cedd50>\n",
      "7 : conv2d_3, <keras.layers.convolutional.Conv2D object at 0x118cd9790>\n",
      "8 : activation_3, <keras.layers.core.Activation object at 0x118ca2890>\n",
      "9 : max_pooling2d_3, <keras.layers.pooling.MaxPooling2D object at 0x118cb0a90>\n",
      "10 : flatten_1, <keras.layers.core.Flatten object at 0x118d37ed0>\n",
      "11 : dense_1, <keras.layers.core.Dense object at 0x118d0bfd0>\n",
      "12 : activation_4, <keras.layers.core.Activation object at 0x118d159d0>\n",
      "13 : dense_2, <keras.layers.core.Dense object at 0x118d60f50>\n",
      "14 : activation_5, <keras.layers.core.Activation object at 0x118d96510>\n"
     ]
    }
   ],
   "source": [
    "coreml_model = coremltools.converters.keras.convert(\n",
    "  'vege_model_2.h5',\n",
    "  input_names = 'image',\n",
    "  image_input_names = 'image',\n",
    "  class_labels = ['carrots', 'kale'])"
   ]
  },
  {
   "cell_type": "code",
   "execution_count": 17,
   "metadata": {},
   "outputs": [
    {
     "data": {
      "text/plain": [
       "input {\n",
       "  name: \"image\"\n",
       "  type {\n",
       "    imageType {\n",
       "      width: 150\n",
       "      height: 150\n",
       "      colorSpace: RGB\n",
       "    }\n",
       "  }\n",
       "}\n",
       "output {\n",
       "  name: \"output1\"\n",
       "  type {\n",
       "    dictionaryType {\n",
       "      stringKeyType {\n",
       "      }\n",
       "    }\n",
       "  }\n",
       "}\n",
       "output {\n",
       "  name: \"classLabel\"\n",
       "  type {\n",
       "    stringType {\n",
       "    }\n",
       "  }\n",
       "}\n",
       "predictedFeatureName: \"classLabel\"\n",
       "predictedProbabilitiesName: \"output1\""
      ]
     },
     "execution_count": 17,
     "metadata": {},
     "output_type": "execute_result"
    }
   ],
   "source": [
    "coreml_model"
   ]
  },
  {
   "cell_type": "code",
   "execution_count": null,
   "metadata": {
    "collapsed": true
   },
   "outputs": [],
   "source": []
  }
 ],
 "metadata": {
  "kernelspec": {
   "display_name": "Python 3",
   "language": "python",
   "name": "python3"
  },
  "language_info": {
   "codemirror_mode": {
    "name": "ipython",
    "version": 2
   },
   "file_extension": ".py",
   "mimetype": "text/x-python",
   "name": "python",
   "nbconvert_exporter": "python",
   "pygments_lexer": "ipython2",
   "version": "2.7.13"
  }
 },
 "nbformat": 4,
 "nbformat_minor": 2
}

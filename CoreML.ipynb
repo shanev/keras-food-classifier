{
 "cells": [
  {
   "cell_type": "code",
   "execution_count": 2,
   "metadata": {
    "collapsed": true
   },
   "outputs": [],
   "source": [
    "import os"
   ]
  },
  {
   "cell_type": "code",
   "execution_count": 3,
   "metadata": {},
   "outputs": [
    {
     "data": {
      "text/plain": [
       "'/Users/colombo/Projects/MachineLearning/keras/food'"
      ]
     },
     "execution_count": 3,
     "metadata": {},
     "output_type": "execute_result"
    }
   ],
   "source": [
    "os.getcwd()"
   ]
  },
  {
   "cell_type": "code",
   "execution_count": 1,
   "metadata": {},
   "outputs": [
    {
     "name": "stderr",
     "output_type": "stream",
     "text": [
      "WARNING:root:scikit-learn version 0.14.1 is not supported. Minimum required version: 0.15. Disabling scikit-learn conversion API.\n"
     ]
    }
   ],
   "source": [
    "import coremltools"
   ]
  },
  {
   "cell_type": "code",
   "execution_count": 4,
   "metadata": {},
   "outputs": [
    {
     "name": "stdout",
     "output_type": "stream",
     "text": [
      "0 : conv2d_1_input, <keras.engine.topology.InputLayer object at 0x114c07f90>\n",
      "1 : conv2d_1, <keras.layers.convolutional.Conv2D object at 0x114c07ed0>\n",
      "2 : activation_1, <keras.layers.core.Activation object at 0x114c2e350>\n",
      "3 : max_pooling2d_1, <keras.layers.pooling.MaxPooling2D object at 0x114c077d0>\n",
      "4 : conv2d_2, <keras.layers.convolutional.Conv2D object at 0x114c07fd0>\n",
      "5 : activation_2, <keras.layers.core.Activation object at 0x114d46ad0>\n",
      "6 : max_pooling2d_2, <keras.layers.pooling.MaxPooling2D object at 0x114d46990>\n",
      "7 : conv2d_3, <keras.layers.convolutional.Conv2D object at 0x114d74a10>\n",
      "8 : activation_3, <keras.layers.core.Activation object at 0x114d67bd0>\n",
      "9 : max_pooling2d_3, <keras.layers.pooling.MaxPooling2D object at 0x114d67d90>\n",
      "10 : flatten_1, <keras.layers.core.Flatten object at 0x114d74e90>\n",
      "11 : dense_1, <keras.layers.core.Dense object at 0x114d74550>\n",
      "12 : activation_4, <keras.layers.core.Activation object at 0x114da5950>\n",
      "13 : dense_2, <keras.layers.core.Dense object at 0x114df6350>\n",
      "14 : activation_5, <keras.layers.core.Activation object at 0x114e04b90>\n"
     ]
    }
   ],
   "source": [
    "coreml_model = coremltools.converters.keras.convert(\n",
    "  'vege_model_1.h5',\n",
    "  input_names = 'image',\n",
    "  image_input_names = 'image')\n"
   ]
  },
  {
   "cell_type": "code",
   "execution_count": 5,
   "metadata": {},
   "outputs": [
    {
     "data": {
      "text/plain": [
       "input {\n",
       "  name: \"image\"\n",
       "  type {\n",
       "    imageType {\n",
       "      width: 150\n",
       "      height: 150\n",
       "      colorSpace: RGB\n",
       "    }\n",
       "  }\n",
       "}\n",
       "output {\n",
       "  name: \"output1\"\n",
       "  type {\n",
       "    multiArrayType {\n",
       "      shape: 1\n",
       "      dataType: DOUBLE\n",
       "    }\n",
       "  }\n",
       "}"
      ]
     },
     "execution_count": 5,
     "metadata": {},
     "output_type": "execute_result"
    }
   ],
   "source": [
    "coreml_model"
   ]
  },
  {
   "cell_type": "code",
   "execution_count": 6,
   "metadata": {},
   "outputs": [
    {
     "name": "stdout",
     "output_type": "stream",
     "text": [
      "0 : conv2d_1_input, <keras.engine.topology.InputLayer object at 0x116ceba90>\n",
      "1 : conv2d_1, <keras.layers.convolutional.Conv2D object at 0x116ceb9d0>\n",
      "2 : activation_1, <keras.layers.core.Activation object at 0x112fda190>\n",
      "3 : max_pooling2d_1, <keras.layers.pooling.MaxPooling2D object at 0x116d21a50>\n",
      "4 : conv2d_2, <keras.layers.convolutional.Conv2D object at 0x116cebe10>\n",
      "5 : activation_2, <keras.layers.core.Activation object at 0x116cebf50>\n",
      "6 : max_pooling2d_2, <keras.layers.pooling.MaxPooling2D object at 0x116cfc4d0>\n",
      "7 : conv2d_3, <keras.layers.convolutional.Conv2D object at 0x116d6ddd0>\n",
      "8 : activation_3, <keras.layers.core.Activation object at 0x116d4fc10>\n",
      "9 : max_pooling2d_3, <keras.layers.pooling.MaxPooling2D object at 0x116d3f190>\n",
      "10 : flatten_1, <keras.layers.core.Flatten object at 0x116db9d10>\n",
      "11 : dense_1, <keras.layers.core.Dense object at 0x116de6c10>\n",
      "12 : activation_4, <keras.layers.core.Activation object at 0x116e08410>\n",
      "13 : dense_2, <keras.layers.core.Dense object at 0x116d8bdd0>\n",
      "14 : activation_5, <keras.layers.core.Activation object at 0x116df8b90>\n"
     ]
    }
   ],
   "source": [
    "coreml_model = coremltools.converters.keras.convert(\n",
    "  'vege_model_1.h5',\n",
    "  input_names = 'image',\n",
    "  image_input_names = 'image',\n",
    "  class_labels = ['classLabel'])"
   ]
  },
  {
   "cell_type": "code",
   "execution_count": 7,
   "metadata": {},
   "outputs": [
    {
     "data": {
      "text/plain": [
       "input {\n",
       "  name: \"image\"\n",
       "  type {\n",
       "    imageType {\n",
       "      width: 150\n",
       "      height: 150\n",
       "      colorSpace: RGB\n",
       "    }\n",
       "  }\n",
       "}\n",
       "output {\n",
       "  name: \"output1\"\n",
       "  type {\n",
       "    dictionaryType {\n",
       "      stringKeyType {\n",
       "      }\n",
       "    }\n",
       "  }\n",
       "}\n",
       "output {\n",
       "  name: \"classLabel\"\n",
       "  type {\n",
       "    stringType {\n",
       "    }\n",
       "  }\n",
       "}\n",
       "predictedFeatureName: \"classLabel\"\n",
       "predictedProbabilitiesName: \"output1\""
      ]
     },
     "execution_count": 7,
     "metadata": {},
     "output_type": "execute_result"
    }
   ],
   "source": [
    "coreml_model"
   ]
  },
  {
   "cell_type": "code",
   "execution_count": 8,
   "metadata": {},
   "outputs": [
    {
     "name": "stdout",
     "output_type": "stream",
     "text": [
      "0 : conv2d_1_input, <keras.engine.topology.InputLayer object at 0x1165bf350>\n",
      "1 : conv2d_1, <keras.layers.convolutional.Conv2D object at 0x1165bf1d0>\n",
      "2 : activation_1, <keras.layers.core.Activation object at 0x1165f6fd0>\n",
      "3 : max_pooling2d_1, <keras.layers.pooling.MaxPooling2D object at 0x1165f6dd0>\n",
      "4 : conv2d_2, <keras.layers.convolutional.Conv2D object at 0x112fc6d10>\n",
      "5 : activation_2, <keras.layers.core.Activation object at 0x1165bf510>\n",
      "6 : max_pooling2d_2, <keras.layers.pooling.MaxPooling2D object at 0x1165bf2d0>\n",
      "7 : conv2d_3, <keras.layers.convolutional.Conv2D object at 0x116633e50>\n",
      "8 : activation_3, <keras.layers.core.Activation object at 0x116610810>\n",
      "9 : max_pooling2d_3, <keras.layers.pooling.MaxPooling2D object at 0x116642cd0>\n",
      "10 : flatten_1, <keras.layers.core.Flatten object at 0x11666ef10>\n",
      "11 : dense_1, <keras.layers.core.Dense object at 0x11665b250>\n",
      "12 : activation_4, <keras.layers.core.Activation object at 0x116ec2a10>\n",
      "13 : dense_2, <keras.layers.core.Dense object at 0x116f16d50>\n",
      "14 : activation_5, <keras.layers.core.Activation object at 0x106223610>\n"
     ]
    }
   ],
   "source": [
    "coreml_model = coremltools.converters.keras.convert(\n",
    "  'vege_model_1.h5',\n",
    "  input_names = 'image',\n",
    "  image_input_names = 'image',\n",
    "  output_names = 'output',\n",
    "  class_labels = ['carrots', 'kale'])"
   ]
  },
  {
   "cell_type": "code",
   "execution_count": 9,
   "metadata": {},
   "outputs": [
    {
     "data": {
      "text/plain": [
       "input {\n",
       "  name: \"image\"\n",
       "  type {\n",
       "    imageType {\n",
       "      width: 150\n",
       "      height: 150\n",
       "      colorSpace: RGB\n",
       "    }\n",
       "  }\n",
       "}\n",
       "output {\n",
       "  name: \"output\"\n",
       "  type {\n",
       "    dictionaryType {\n",
       "      stringKeyType {\n",
       "      }\n",
       "    }\n",
       "  }\n",
       "}\n",
       "output {\n",
       "  name: \"classLabel\"\n",
       "  type {\n",
       "    stringType {\n",
       "    }\n",
       "  }\n",
       "}\n",
       "predictedFeatureName: \"classLabel\"\n",
       "predictedProbabilitiesName: \"output\""
      ]
     },
     "execution_count": 9,
     "metadata": {},
     "output_type": "execute_result"
    }
   ],
   "source": [
    "coreml_model"
   ]
  },
  {
   "cell_type": "code",
   "execution_count": 10,
   "metadata": {
    "collapsed": true
   },
   "outputs": [],
   "source": [
    "coreml_model.save('vege_model_1.mlmodel')"
   ]
  },
  {
   "cell_type": "code",
   "execution_count": 11,
   "metadata": {},
   "outputs": [
    {
     "name": "stdout",
     "output_type": "stream",
     "text": [
      "0 : conv2d_1_input, <keras.engine.topology.InputLayer object at 0x11add98d0>\n",
      "1 : conv2d_1, <keras.layers.convolutional.Conv2D object at 0x11add9810>\n",
      "2 : activation_1, <keras.layers.core.Activation object at 0x11aad1810>\n",
      "3 : max_pooling2d_1, <keras.layers.pooling.MaxPooling2D object at 0x114c07b10>\n",
      "4 : conv2d_2, <keras.layers.convolutional.Conv2D object at 0x11aaad9d0>\n",
      "5 : activation_2, <keras.layers.core.Activation object at 0x11add9c10>\n",
      "6 : max_pooling2d_2, <keras.layers.pooling.MaxPooling2D object at 0x11add9b50>\n",
      "7 : conv2d_3, <keras.layers.convolutional.Conv2D object at 0x11ab5db90>\n",
      "8 : activation_3, <keras.layers.core.Activation object at 0x11ab3e9d0>\n",
      "9 : max_pooling2d_3, <keras.layers.pooling.MaxPooling2D object at 0x11ab6c7d0>\n",
      "10 : flatten_1, <keras.layers.core.Flatten object at 0x11ab2f390>\n",
      "11 : dense_1, <keras.layers.core.Dense object at 0x11ab2fc50>\n",
      "12 : activation_4, <keras.layers.core.Activation object at 0x11abd7f50>\n",
      "13 : dense_2, <keras.layers.core.Dense object at 0x11ac09590>\n",
      "14 : activation_5, <keras.layers.core.Activation object at 0x11abb7f50>\n"
     ]
    },
    {
     "ename": "ValueError",
     "evalue": "Path to class labels (vege) does not exist.",
     "output_type": "error",
     "traceback": [
      "\u001b[0;31m---------------------------------------------------------------------------\u001b[0m",
      "\u001b[0;31mValueError\u001b[0m                                Traceback (most recent call last)",
      "\u001b[0;32m<ipython-input-11-df437e70f46f>\u001b[0m in \u001b[0;36m<module>\u001b[0;34m()\u001b[0m\n\u001b[1;32m      4\u001b[0m   \u001b[0mimage_input_names\u001b[0m \u001b[0;34m=\u001b[0m \u001b[0;34m'image'\u001b[0m\u001b[0;34m,\u001b[0m\u001b[0;34m\u001b[0m\u001b[0m\n\u001b[1;32m      5\u001b[0m   \u001b[0moutput_names\u001b[0m \u001b[0;34m=\u001b[0m \u001b[0;34m'output'\u001b[0m\u001b[0;34m,\u001b[0m\u001b[0;34m\u001b[0m\u001b[0m\n\u001b[0;32m----> 6\u001b[0;31m   class_labels = 'vege')\n\u001b[0m",
      "\u001b[0;32m/usr/local/anaconda3/envs/coreml/lib/python2.7/site-packages/coremltools/converters/keras/_keras_converter.pyc\u001b[0m in \u001b[0;36mconvert\u001b[0;34m(model, input_names, output_names, image_input_names, is_bgr, red_bias, green_bias, blue_bias, gray_bias, image_scale, class_labels, predicted_feature_name, predicted_probabilities_output)\u001b[0m\n\u001b[1;32m    502\u001b[0m                                    \u001b[0mclass_labels\u001b[0m \u001b[0;34m=\u001b[0m \u001b[0mclass_labels\u001b[0m\u001b[0;34m,\u001b[0m\u001b[0;34m\u001b[0m\u001b[0m\n\u001b[1;32m    503\u001b[0m                                    \u001b[0mpredicted_feature_name\u001b[0m \u001b[0;34m=\u001b[0m \u001b[0mpredicted_feature_name\u001b[0m\u001b[0;34m,\u001b[0m\u001b[0;34m\u001b[0m\u001b[0m\n\u001b[0;32m--> 504\u001b[0;31m                                    predicted_probabilities_output = predicted_probabilities_output)\n\u001b[0m\u001b[1;32m    505\u001b[0m     \u001b[0;32melse\u001b[0m\u001b[0;34m:\u001b[0m\u001b[0;34m\u001b[0m\u001b[0m\n\u001b[1;32m    506\u001b[0m         \u001b[0;32mraise\u001b[0m \u001b[0mRuntimeError\u001b[0m\u001b[0;34m(\u001b[0m\u001b[0;34m'keras not found or unsupported version or backend found. keras conversion API is disabled.'\u001b[0m\u001b[0;34m)\u001b[0m\u001b[0;34m\u001b[0m\u001b[0m\n",
      "\u001b[0;32m/usr/local/anaconda3/envs/coreml/lib/python2.7/site-packages/coremltools/converters/keras/_keras2_converter.pyc\u001b[0m in \u001b[0;36m_convert\u001b[0;34m(model, input_names, output_names, image_input_names, is_bgr, red_bias, green_bias, blue_bias, gray_bias, image_scale, class_labels, predicted_feature_name, predicted_probabilities_output)\u001b[0m\n\u001b[1;32m    289\u001b[0m             \u001b[0;32mimport\u001b[0m \u001b[0mos\u001b[0m\u001b[0;34m\u001b[0m\u001b[0m\n\u001b[1;32m    290\u001b[0m             \u001b[0;32mif\u001b[0m \u001b[0;32mnot\u001b[0m \u001b[0mos\u001b[0m\u001b[0;34m.\u001b[0m\u001b[0mpath\u001b[0m\u001b[0;34m.\u001b[0m\u001b[0misfile\u001b[0m\u001b[0;34m(\u001b[0m\u001b[0mclasses_in\u001b[0m\u001b[0;34m)\u001b[0m\u001b[0;34m:\u001b[0m\u001b[0;34m\u001b[0m\u001b[0m\n\u001b[0;32m--> 291\u001b[0;31m                 \u001b[0;32mraise\u001b[0m \u001b[0mValueError\u001b[0m\u001b[0;34m(\u001b[0m\u001b[0;34m\"Path to class labels (%s) does not exist.\"\u001b[0m \u001b[0;34m%\u001b[0m \u001b[0mclasses_in\u001b[0m\u001b[0;34m)\u001b[0m\u001b[0;34m\u001b[0m\u001b[0m\n\u001b[0m\u001b[1;32m    292\u001b[0m             \u001b[0;32mwith\u001b[0m \u001b[0mopen\u001b[0m\u001b[0;34m(\u001b[0m\u001b[0mclasses_in\u001b[0m\u001b[0;34m,\u001b[0m \u001b[0;34m'r'\u001b[0m\u001b[0;34m)\u001b[0m \u001b[0;32mas\u001b[0m \u001b[0mf\u001b[0m\u001b[0;34m:\u001b[0m\u001b[0;34m\u001b[0m\u001b[0m\n\u001b[1;32m    293\u001b[0m                 \u001b[0mclasses\u001b[0m \u001b[0;34m=\u001b[0m \u001b[0mf\u001b[0m\u001b[0;34m.\u001b[0m\u001b[0mread\u001b[0m\u001b[0;34m(\u001b[0m\u001b[0;34m)\u001b[0m\u001b[0;34m\u001b[0m\u001b[0m\n",
      "\u001b[0;31mValueError\u001b[0m: Path to class labels (vege) does not exist."
     ]
    }
   ],
   "source": [
    "coreml_model = coremltools.converters.keras.convert(\n",
    "  'vege_model_1.h5',\n",
    "  input_names = 'image',\n",
    "  image_input_names = 'image',\n",
    "  output_names = 'output',\n",
    "  class_labels = 'vege')"
   ]
  },
  {
   "cell_type": "code",
   "execution_count": null,
   "metadata": {
    "collapsed": true
   },
   "outputs": [],
   "source": []
  }
 ],
 "metadata": {
  "kernelspec": {
   "display_name": "Python 2",
   "language": "python",
   "name": "python2"
  },
  "language_info": {
   "codemirror_mode": {
    "name": "ipython",
    "version": 2
   },
   "file_extension": ".py",
   "mimetype": "text/x-python",
   "name": "python",
   "nbconvert_exporter": "python",
   "pygments_lexer": "ipython2",
   "version": "2.7.13"
  }
 },
 "nbformat": 4,
 "nbformat_minor": 2
}
